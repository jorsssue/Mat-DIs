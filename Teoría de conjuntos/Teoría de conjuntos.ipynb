{
 "cells": [
  {
   "cell_type": "markdown",
   "id": "445ea7fe-e128-4af0-9265-1c9812369671",
   "metadata": {},
   "source": [
    "# Teoría de conjuntos\n",
    "\n",
    "La teoria de conjuntos es un área fundamental de las matemáticas que trata sobre las propiedades y relaciones entre conjuntos, que son colecciones bien definidas de objetos. Python, como un lenguaje de programación versátil, ofrece varías fromas de trabajar conjuntos y aplicar conceptos de teoría de conjuntos.\n",
    "\n",
    "## Creación de conjuntos\n",
    "\n",
    "En Python, puedes crear un conjunto utilizando llaves {} o la función set()"
   ]
  },
  {
   "cell_type": "code",
   "execution_count": 1,
   "id": "a5038459-4c9d-4fa2-a4be-878e08022f0f",
   "metadata": {
    "scrolled": true
   },
   "outputs": [],
   "source": [
    "A = {1, 2, 3, 4, 5}"
   ]
  },
  {
   "cell_type": "code",
   "execution_count": 2,
   "id": "6bff5403-dc79-44a6-8739-b9621de242a6",
   "metadata": {},
   "outputs": [],
   "source": [
    "B = {3, 4, 5, 6, 7}"
   ]
  },
  {
   "cell_type": "code",
   "execution_count": 3,
   "id": "61bc32f1-907e-43b5-96dd-d9127cb3dcb1",
   "metadata": {},
   "outputs": [],
   "source": [
    "C = set([3, 6, 9, 12, 15])"
   ]
  },
  {
   "cell_type": "markdown",
   "id": "8fc7b4f8-af84-4d88-bb3e-4fe853e10fcc",
   "metadata": {},
   "source": [
    "## Lista vs conjuntos"
   ]
  },
  {
   "cell_type": "code",
   "execution_count": 4,
   "id": "ec9d11c3-0b88-4de2-9dec-2ce5e2bb63dd",
   "metadata": {},
   "outputs": [],
   "source": [
    "lista = [1, 2, 3, 4, 5, 1, 2, 3, 4, 5]"
   ]
  },
  {
   "cell_type": "code",
   "execution_count": 5,
   "id": "272e5efa-2b77-4a33-91d6-33e700e9eff2",
   "metadata": {},
   "outputs": [
    {
     "data": {
      "text/plain": [
       "[1, 2, 3, 4, 5, 1, 2, 3, 4, 5]"
      ]
     },
     "execution_count": 5,
     "metadata": {},
     "output_type": "execute_result"
    }
   ],
   "source": [
    "lista"
   ]
  },
  {
   "cell_type": "code",
   "execution_count": 6,
   "id": "60597365-063d-48b8-99b1-45454e802580",
   "metadata": {},
   "outputs": [],
   "source": [
    "conjunto = set(lista)"
   ]
  },
  {
   "cell_type": "code",
   "execution_count": 7,
   "id": "4f62ff83-45f8-4fcd-9f6c-7bd0258613ff",
   "metadata": {},
   "outputs": [
    {
     "data": {
      "text/plain": [
       "{1, 2, 3, 4, 5}"
      ]
     },
     "execution_count": 7,
     "metadata": {},
     "output_type": "execute_result"
    }
   ],
   "source": [
    "conjunto"
   ]
  },
  {
   "cell_type": "markdown",
   "id": "4c213a8a-1c82-4a1e-aab2-8c13810738b5",
   "metadata": {},
   "source": [
    "## Operaciones\n",
    "\n",
    "Python proporciona operadores y métodos para realizar operaciones básicas de conjuntos como unión, intersección, diferencia y diferencia simétrica"
   ]
  },
  {
   "cell_type": "markdown",
   "id": "2cd92a83-4bfa-4a06-911d-198d77c1fdf1",
   "metadata": {},
   "source": [
    "## Unión\n",
    "El método union() de Python devuelve un conjunto que contiene todos los elementos del conjunto original y todos los elementos de los conjuntos especificados.\r\n",
    "\r\n",
    "Puede especificar tantos conjuntos como desee, separados por comas.\r\n",
    "No tiene que ser un conjunto, puede ser cualquier objeto iterable.\r\n",
    "Si un elemento está presente en más de un conjunto, el resultado contendrá solo una apariencia de este elemento.\r\n",
    "\n"
   ]
  },
  {
   "cell_type": "markdown",
   "id": "aea98d39-0387-4c5d-a1a7-f812ff0dbbbc",
   "metadata": {},
   "source": [
    "Formalmente, si A y B son conjuntos, la unión de A y B se define como el conjunto C que contiene todos los elementos que pertenecen a A, a B, o a ambos.\n",
    "Matemáticamente esto se puede expresar como:\n",
    "\n",
    "$$\n",
    "    C = A \\cup B = {x:x \\in A\\quad o \\quad x \\in B}\n",
    "$$\n",
    "\n",
    "En python, la operación de unión puede realizarse utilizando el operador |  método unión()"
   ]
  },
  {
   "cell_type": "code",
   "execution_count": 8,
   "id": "21935be6-108b-443c-989f-4531fe20172f",
   "metadata": {},
   "outputs": [
    {
     "data": {
      "text/plain": [
       "{1, 2, 3, 4, 5, 6, 7}"
      ]
     },
     "execution_count": 8,
     "metadata": {},
     "output_type": "execute_result"
    }
   ],
   "source": [
    "A | B"
   ]
  },
  {
   "cell_type": "code",
   "execution_count": 10,
   "id": "f3dcc8c5-d46d-488a-9124-abe7107e9cd1",
   "metadata": {},
   "outputs": [
    {
     "data": {
      "text/plain": [
       "{1, 2, 3, 4, 5, 6, 7}"
      ]
     },
     "execution_count": 10,
     "metadata": {},
     "output_type": "execute_result"
    }
   ],
   "source": [
    "A.union(B)"
   ]
  },
  {
   "cell_type": "markdown",
   "id": "6fb62625-edbd-4dbf-9175-114572d05fa6",
   "metadata": {},
   "source": [
    "## Intersección \n",
    "\n",
    "\n",
    "La intersección de los conjuntos A y B se puede definir como un nuevo conjunto que contiene elementos comunes de A y B.\n",
    "\n",
    "$$\n",
    "     C = A \\cup B = { x : x \\in A \\text{ y } x \\in B }\n",
    "$$"
   ]
  },
  {
   "cell_type": "code",
   "execution_count": null,
   "id": "056a7091-3765-4ffe-a601-a0304287d104",
   "metadata": {},
   "outputs": [],
   "source": []
  },
  {
   "cell_type": "code",
   "execution_count": null,
   "id": "196b93e6-3b57-4414-be02-c1617f8585ca",
   "metadata": {},
   "outputs": [],
   "source": []
  }
 ],
 "metadata": {
  "kernelspec": {
   "display_name": "Python 3 (ipykernel)",
   "language": "python",
   "name": "python3"
  },
  "language_info": {
   "codemirror_mode": {
    "name": "ipython",
    "version": 3
   },
   "file_extension": ".py",
   "mimetype": "text/x-python",
   "name": "python",
   "nbconvert_exporter": "python",
   "pygments_lexer": "ipython3",
   "version": "3.11.7"
  }
 },
 "nbformat": 4,
 "nbformat_minor": 5
}
