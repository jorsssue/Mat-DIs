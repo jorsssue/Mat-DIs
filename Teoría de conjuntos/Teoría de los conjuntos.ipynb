{
 "cells": [
  {
   "cell_type": "markdown",
   "id": "445ea7fe-e128-4af0-9265-1c9812369671",
   "metadata": {},
   "source": [
    "# Teoría de conjuntos\n",
    "\n",
    "La teoria de conjuntos es un área fundamental de las matemáticas que trata sobre las propiedades y relaciones entre conjuntos, que son colecciones bien definidas de objetos. Python, como un lenguaje de programación versátil, ofrece varías fromas de trabajar conjuntos y aplicar conceptos de teoría de conjuntos.\n",
    "\n",
    "## Creación de conjuntos\n",
    "\n",
    "En Python, puedes crear un conjunto utilizando llaves {} o la función set()"
   ]
  },
  {
   "cell_type": "code",
   "execution_count": 1,
   "id": "a5038459-4c9d-4fa2-a4be-878e08022f0f",
   "metadata": {
    "scrolled": true
   },
   "outputs": [],
   "source": [
    "A = {1, 2, 3, 4, 5}"
   ]
  },
  {
   "cell_type": "code",
   "execution_count": 2,
   "id": "6bff5403-dc79-44a6-8739-b9621de242a6",
   "metadata": {},
   "outputs": [],
   "source": [
    "B = {3, 4, 5, 6, 7}"
   ]
  },
  {
   "cell_type": "code",
   "execution_count": 3,
   "id": "61bc32f1-907e-43b5-96dd-d9127cb3dcb1",
   "metadata": {},
   "outputs": [],
   "source": [
    "C = set([3, 6, 9, 12, 15])"
   ]
  },
  {
   "cell_type": "markdown",
   "id": "8fc7b4f8-af84-4d88-bb3e-4fe853e10fcc",
   "metadata": {},
   "source": [
    "## Lista vs conjuntos"
   ]
  },
  {
   "cell_type": "code",
   "execution_count": 4,
   "id": "ec9d11c3-0b88-4de2-9dec-2ce5e2bb63dd",
   "metadata": {},
   "outputs": [],
   "source": [
    "lista = [1, 2, 3, 4, 5, 1, 2, 3, 4, 5]"
   ]
  },
  {
   "cell_type": "code",
   "execution_count": 5,
   "id": "272e5efa-2b77-4a33-91d6-33e700e9eff2",
   "metadata": {},
   "outputs": [
    {
     "data": {
      "text/plain": [
       "[1, 2, 3, 4, 5, 1, 2, 3, 4, 5]"
      ]
     },
     "execution_count": 5,
     "metadata": {},
     "output_type": "execute_result"
    }
   ],
   "source": [
    "lista"
   ]
  },
  {
   "cell_type": "code",
   "execution_count": 6,
   "id": "60597365-063d-48b8-99b1-45454e802580",
   "metadata": {},
   "outputs": [],
   "source": [
    "conjunto = set(lista)"
   ]
  },
  {
   "cell_type": "code",
   "execution_count": 7,
   "id": "4f62ff83-45f8-4fcd-9f6c-7bd0258613ff",
   "metadata": {},
   "outputs": [
    {
     "data": {
      "text/plain": [
       "{1, 2, 3, 4, 5}"
      ]
     },
     "execution_count": 7,
     "metadata": {},
     "output_type": "execute_result"
    }
   ],
   "source": [
    "conjunto"
   ]
  },
  {
   "cell_type": "markdown",
   "id": "4c213a8a-1c82-4a1e-aab2-8c13810738b5",
   "metadata": {},
   "source": [
    "## Operaciones\n",
    "\n",
    "Python proporciona operadores y métodos para realizar operaciones básicas de conjuntos como unión, intersección, diferencia y diferencia simétrica"
   ]
  },
  {
   "cell_type": "markdown",
   "id": "2cd92a83-4bfa-4a06-911d-198d77c1fdf1",
   "metadata": {},
   "source": [
    "## Unión\n",
    "El método union() de Python devuelve un conjunto que contiene todos los elementos del conjunto original y todos los elementos de los conjuntos especificados.\n",
    "\n",
    "Puede especificar tantos conjuntos como desee, separados por comas.\n",
    "No tiene que ser un conjunto, puede ser cualquier objeto iterable.\n",
    "Si un elemento está presente en más de un conjunto, el resultado contendrá solo una apariencia de este elemento.\n",
    "\n"
   ]
  },
  {
   "cell_type": "markdown",
   "id": "aea98d39-0387-4c5d-a1a7-f812ff0dbbbc",
   "metadata": {},
   "source": [
    "Formalmente, si A y B son conjuntos, la unión de A y B se define como el conjunto C que contiene todos los elementos que pertenecen a A, a B, o a ambos.\n",
    "Matemáticamente esto se puede expresar como:\n",
    "\n",
    "$$\n",
    "    A \\cup B = \\{x \\mid x \\in A \\ \\text{o} \\ x \\in B\\}\n",
    "$$\n",
    "\n",
    "En python, la operación de unión puede realizarse utilizando el operador |  método unión()"
   ]
  },
  {
   "cell_type": "code",
   "execution_count": 8,
   "id": "21935be6-108b-443c-989f-4531fe20172f",
   "metadata": {},
   "outputs": [
    {
     "data": {
      "text/plain": [
       "{1, 2, 3, 4, 5, 6, 7}"
      ]
     },
     "execution_count": 8,
     "metadata": {},
     "output_type": "execute_result"
    }
   ],
   "source": [
    "A | B"
   ]
  },
  {
   "cell_type": "code",
   "execution_count": 9,
   "id": "f3dcc8c5-d46d-488a-9124-abe7107e9cd1",
   "metadata": {},
   "outputs": [
    {
     "data": {
      "text/plain": [
       "{1, 2, 3, 4, 5, 6, 7}"
      ]
     },
     "execution_count": 9,
     "metadata": {},
     "output_type": "execute_result"
    }
   ],
   "source": [
    "A.union(B)"
   ]
  },
  {
   "cell_type": "markdown",
   "id": "6fb62625-edbd-4dbf-9175-114572d05fa6",
   "metadata": {},
   "source": [
    "## Intersección \n",
    "\n",
    "\n",
    "La intersección de los conjuntos A y B se puede definir como un nuevo conjunto que contiene elementos comunes de A y B.\n",
    "\n",
    "La intersección de dos conjuntos A y B, denotada como A ∩ B, es un conjunto que contiene todos los elementos que son comunes a ambos conjuntos. Es decir, la intersección de dos conjuntos es un conjunto que contiene solo los elementos que están presentes en ambos conjuntos.\n",
    "\n",
    "\n",
    "$$\n",
    "     A \\cap B = \\{x \\mid x \\in A \\ \\text{y} \\ x \\in B\\}\n",
    "$$"
   ]
  },
  {
   "cell_type": "code",
   "execution_count": 10,
   "id": "b6f84f66",
   "metadata": {
    "scrolled": true
   },
   "outputs": [
    {
     "data": {
      "text/plain": [
       "{3, 4, 5}"
      ]
     },
     "execution_count": 10,
     "metadata": {},
     "output_type": "execute_result"
    }
   ],
   "source": [
    "A & B"
   ]
  },
  {
   "cell_type": "code",
   "execution_count": 11,
   "id": "2e01b118",
   "metadata": {},
   "outputs": [
    {
     "data": {
      "text/plain": [
       "{3}"
      ]
     },
     "execution_count": 11,
     "metadata": {},
     "output_type": "execute_result"
    }
   ],
   "source": [
    "A & C"
   ]
  },
  {
   "cell_type": "markdown",
   "id": "47255db7",
   "metadata": {},
   "source": [
    "## Diferencia\n",
    "\n",
    " La diferencia de dos conjuntos A y B, denotada como A \\ B, es un conjunto que contiene todos los elementos que están en A pero no están en B. En otras palabras, es el conjunto de todos los elementos de A que no están en B.\n",
    " \n",
    " $$\n",
    "     A - B = \\{x \\mid x \\in A \\ \\text{y} \\ x \\notin B\\}\n",
    " $$"
   ]
  },
  {
   "cell_type": "code",
   "execution_count": 12,
   "id": "3c1c1482",
   "metadata": {},
   "outputs": [
    {
     "data": {
      "text/plain": [
       "{1, 2, 4, 5}"
      ]
     },
     "execution_count": 12,
     "metadata": {},
     "output_type": "execute_result"
    }
   ],
   "source": [
    "A - C"
   ]
  },
  {
   "cell_type": "code",
   "execution_count": 13,
   "id": "65c1fde0",
   "metadata": {},
   "outputs": [
    {
     "data": {
      "text/plain": [
       "{4, 5, 7}"
      ]
     },
     "execution_count": 13,
     "metadata": {},
     "output_type": "execute_result"
    }
   ],
   "source": [
    "B - C"
   ]
  },
  {
   "cell_type": "markdown",
   "id": "021e4988",
   "metadata": {},
   "source": [
    "## Diferencia simétrica\n",
    "\n",
    "La diferencia simétrica de dos conjuntos A y B, denotada como A Δ B o A ⊕ B, es un conjunto que contiene todos los elementos que están en A o en B, pero no en ambos conjuntos. En términos simples, es el conjunto de elementos que están en A o en B, pero no en ambos simultáneamente.\n",
    "\n",
    "$$\n",
    "    A \\triangle B = \\{x \\mid (x \\in A \\ \\text{o} \\ x \\in B) \\ \\text{y} \\ (x \\notin A \\ \\text{o} \\ x \\notin B)\\}\n",
    "$$"
   ]
  },
  {
   "cell_type": "code",
   "execution_count": 14,
   "id": "20e9877b",
   "metadata": {},
   "outputs": [
    {
     "data": {
      "text/plain": [
       "{1, 2, 6, 7}"
      ]
     },
     "execution_count": 14,
     "metadata": {},
     "output_type": "execute_result"
    }
   ],
   "source": [
    "A ^ B"
   ]
  },
  {
   "cell_type": "code",
   "execution_count": 15,
   "id": "72b1a458",
   "metadata": {},
   "outputs": [
    {
     "data": {
      "text/plain": [
       "{1, 2, 4, 5, 6, 9, 12, 15}"
      ]
     },
     "execution_count": 15,
     "metadata": {},
     "output_type": "execute_result"
    }
   ],
   "source": [
    "A ^ C"
   ]
  },
  {
   "cell_type": "markdown",
   "id": "60df3895",
   "metadata": {},
   "source": [
    "## Diagramas de Venn\n",
    "\n",
    "Los diagramas de Venn son herramientas visuales que representan las relaciones entre conjuntos mediante regiones superpuestas o adyacentes. Cada conjunto se representa por una región cerrada dentro de una figura, generalmente un círculo. Las intersecciones entre las regiones muestran los elementos comunes entre los conjuntos, mientras que las regiones separadas muestran los elementos exclusivos de cada conjunto. Estos diagramas son utilizados para comprender y visualizar conceptos fundamentales de la teoría de conjuntos, como la unión, la intersección, la diferencia y la diferencia simétrica."
   ]
  },
  {
   "cell_type": "markdown",
   "id": "13d6c35e",
   "metadata": {},
   "source": [
    "### Diagrama de Venn con 2 conjuntos\n",
    "\n",
    "El procedimiento mínimo para dibujar un diagrama de Venn es el siguiente, debes cargar:"
   ]
  },
  {
   "cell_type": "code",
   "execution_count": 16,
   "id": "57cb3850",
   "metadata": {},
   "outputs": [],
   "source": [
    "from matplotlib import pyplot as plt"
   ]
  },
  {
   "cell_type": "code",
   "execution_count": 17,
   "id": "b83f82de",
   "metadata": {},
   "outputs": [],
   "source": [
    "from matplotlib_venn import venn2"
   ]
  },
  {
   "cell_type": "markdown",
   "id": "4fdf42a3",
   "metadata": {},
   "source": [
    "La función venn2() genera un diagrama de dos conjuntos, como se muestra a continuación."
   ]
  },
  {
   "cell_type": "code",
   "execution_count": 18,
   "id": "fa8aa8ad",
   "metadata": {},
   "outputs": [
    {
     "data": {
      "text/plain": [
       "<matplotlib_venn._common.VennDiagram at 0x1c1e9babe90>"
      ]
     },
     "execution_count": 18,
     "metadata": {},
     "output_type": "execute_result"
    },
    {
     "data": {
      "image/png": "[encoded data removed]",
      "text/plain": [
       "<Figure size 640x480 with 1 Axes>"
      ]
     },
     "metadata": {},
     "output_type": "display_data"
    }
   ],
   "source": [
    "venn2((1, 1, 1))"
   ]
  },
  {
   "cell_type": "markdown",
   "id": "1d699454",
   "metadata": {},
   "source": [
    "El argumento indica el tamaño relativo de los tres subconjuntos en este orden: Ab (izquierda), aB (derecha), AB (intersección). Así, la tupla (1, 2, 1) dibujaría el conjunto B del doble de tamaño respecto de A.\n",
    "\n",
    "Para identificar a cada uno de los subconjuntos (tres en diagramas de dos conjuntos) el módulo utiliza una nomenclatura que consiste en colocar un 1 para indicar que la sección está incluida en el conjunto y un 0 para indicar que está excluida. De esta manera, siguiendo el orden «ABC», el subconjunto 10 es el de la izquierda (el que pertenece a A pero no a B); el 01, el de la derecha (el que pertenece a B pero no a A); y el 11, el del medio (la intersección)."
   ]
  },
  {
   "cell_type": "markdown",
   "id": "aa558c4b",
   "metadata": {},
   "source": [
    "### Diagrama de Venn de 3 conjuntos"
   ]
  },
  {
   "cell_type": "markdown",
   "id": "344e80bd",
   "metadata": {},
   "source": [
    "La función venn3() es esencialmente similar. El primer argumento será ahora una tupla de siete elementos que se corresponden con los siete subconjuntos en el siguiente orden: Abc, aBc, ABc, abC, AbC, aBC, ABC.\n",
    "\n",
    "Se debe cargar:"
   ]
  },
  {
   "cell_type": "code",
   "execution_count": 19,
   "id": "cb313412",
   "metadata": {},
   "outputs": [],
   "source": [
    "from matplotlib_venn import venn3"
   ]
  },
  {
   "cell_type": "markdown",
   "id": "c5c6c7f9",
   "metadata": {},
   "source": [
    "La función venn3() genera un diagrama de dos conjuntos, como se muestra a continuación."
   ]
  },
  {
   "cell_type": "code",
   "execution_count": 20,
   "id": "91a07a90",
   "metadata": {},
   "outputs": [
    {
     "data": {
      "image/png": "[encoded data removed]",
      "text/plain": [
       "<Figure size 640x480 with 1 Axes>"
      ]
     },
     "metadata": {},
     "output_type": "display_data"
    }
   ],
   "source": [
    "diagram = venn3((1, 1, 1, 1, 1, 1, 1))"
   ]
  },
  {
   "cell_type": "markdown",
   "id": "90ec2894",
   "metadata": {},
   "source": [
    "De la misma forma, para identificar a cada uno de los subconjuntos se emplean ahora tres dígitos según el orden A, B, C. La imagen a continuación muestra cada uno de ellos con su respectivo identificador."
   ]
  },
  {
   "cell_type": "markdown",
   "id": "01921d92",
   "metadata": {},
   "source": [
    "<img src=https://www.recursospython.com/wp-content/uploads/2018/01/venn3-subconjuntos.png>"
   ]
  }
 ],
 "metadata": {
  "kernelspec": {
   "display_name": "Python 3 (ipykernel)",
   "language": "python",
   "name": "python3"
  },
  "language_info": {
   "codemirror_mode": {
    "name": "ipython",
    "version": 3
   },
   "file_extension": ".py",
   "mimetype": "text/x-python",
   "name": "python",
   "nbconvert_exporter": "python",
   "pygments_lexer": "ipython3",
   "version": "3.11.4"
  }
 },
 "nbformat": 4,
 "nbformat_minor": 5
}
